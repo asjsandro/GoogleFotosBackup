{
 "cells": [
  {
   "cell_type": "code",
   "execution_count": null,
   "metadata": {},
   "outputs": [],
   "source": [
    "import os\n",
    "from Google import Create_Service\n",
    "import pandas as pd\n",
    "import requests"
   ]
  },
  {
   "cell_type": "code",
   "execution_count": null,
   "metadata": {},
   "outputs": [],
   "source": [
    "pd.set_option('display.max_columns', 100)\n",
    "pd.set_option('display.max_rows', 150)\n",
    "pd.set_option('display.max_colwidth', 150)\n",
    "pd.set_option('display.width', 150)\n",
    "pd.set_option('expand_frame_repr', True)"
   ]
  },
  {
   "cell_type": "code",
   "execution_count": null,
   "metadata": {},
   "outputs": [],
   "source": [
    "CLIENT_SECRET_FILE = 'client_secret_GoogleCloudPlatform.json'\n",
    "API_NAME = 'photoslibrary'\n",
    "API_VERSION = 'v1'\n",
    "SCOPES = ['https://photoslibrary.googleapis.com']"
   ]
  },
  {
   "cell_type": "code",
   "execution_count": null,
   "metadata": {},
   "outputs": [],
   "source": [
    "def download_file(url:str, destination_folder:str, file_name:str):\n",
    "    response = requests.get(url)\n",
    "    if response.status_code == 200:\n",
    "        print('Download file {}'.format(file_name))\n",
    "        with open(os.path.join(destination_folder, file_name), 'wb') as f:\n",
    "            f.write(response.content)\n",
    "            f.close()"
   ]
  },
  {
   "cell_type": "code",
   "execution_count": null,
   "metadata": {},
   "outputs": [],
   "source": [
    "service = Create_Service(CLIENT_SECRET_FILE, API_NAME,API_VERSION, SCOPES)"
   ]
  },
  {
   "cell_type": "code",
   "execution_count": null,
   "metadata": {},
   "outputs": [],
   "source": [
    "\"\"\"\n",
    "list method\n",
    "\"\"\"\n",
    "response = service.mediaItems().list(\n",
    "    pageSize=100).execute()\n",
    "\n",
    "lstItens = response.get('mediaItems')\n",
    "nextPageToken = response.get('nextPageToken')"
   ]
  },
  {
   "cell_type": "code",
   "execution_count": null,
   "metadata": {},
   "outputs": [],
   "source": [
    "interacao = 0\n",
    "while nextPageToken and interacao < 3:\n",
    "    response = service.mediaItems().list(\n",
    "        pageSize=100,\n",
    "        pageToken=nextPageToken).execute()\n",
    "    lstItens.extend(response.get('mediaItems'))\n",
    "    nextPageToken = response.get('nextPageToken')\n",
    "    interacao += 1"
   ]
  },
  {
   "cell_type": "code",
   "execution_count": null,
   "metadata": {},
   "outputs": [],
   "source": [
    "dfItens = pd.DataFrame(lstItens)"
   ]
  },
  {
   "cell_type": "code",
   "execution_count": null,
   "metadata": {},
   "outputs": [],
   "source": [
    "destination_folder = r'download'\n",
    "for index, dfIten in dfItens.iterrows():\n",
    "    file_name = dfIten['filename']\n",
    "    download_url = dfIten['baseUrl'] + '=d'\n",
    "    download_file(download_url, destination_folder, file_name)"
   ]
  }
 ],
 "metadata": {
  "kernelspec": {
   "display_name": "Python 3.8.2 64-bit",
   "language": "python",
   "name": "python38264bit54945e4f9fef42fdaf6b9077a5001296"
  },
  "language_info": {
   "codemirror_mode": {
    "name": "ipython",
    "version": 3
   },
   "file_extension": ".py",
   "mimetype": "text/x-python",
   "name": "python",
   "nbconvert_exporter": "python",
   "pygments_lexer": "ipython3",
   "version": "3.8.5"
  }
 },
 "nbformat": 4,
 "nbformat_minor": 4
}
