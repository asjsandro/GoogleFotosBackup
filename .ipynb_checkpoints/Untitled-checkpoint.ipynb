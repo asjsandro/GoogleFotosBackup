{
 "cells": [
  {
   "cell_type": "code",
   "execution_count": 1,
   "metadata": {},
   "outputs": [],
   "source": [
    "import pandas as pd\n",
    "from Google import Create_Service\n",
    "import requests"
   ]
  },
  {
   "cell_type": "code",
   "execution_count": 3,
   "metadata": {},
   "outputs": [],
   "source": [
    "CLIENT_SECRET_FILE = 'client_secret_GoogleCloudPlatform.json'\n",
    "API_NAME = 'photoslibrary'\n",
    "API_VERSION = 'v1'\n",
    "SCOPES = ['https://photoslibrary.googleapis.com']"
   ]
  },
  {
   "cell_type": "code",
   "execution_count": 4,
   "metadata": {},
   "outputs": [
    {
     "name": "stdout",
     "output_type": "stream",
     "text": [
      "client_secret_GoogleCloudPlatform.json-photoslibrary-v1-(['https://photoslibrary.googleapis.com'],)\n",
      "['https://photoslibrary.googleapis.com']\n",
      "photoslibrary service created successfully\n"
     ]
    }
   ],
   "source": [
    "service = Create_Service(CLIENT_SECRET_FILE, API_NAME,API_VERSION, SCOPES)"
   ]
  },
  {
   "cell_type": "code",
   "execution_count": 5,
   "metadata": {},
   "outputs": [],
   "source": [
    "\"\"\"\n",
    "list method\n",
    "\"\"\"\n",
    "response = service.albums().list(\n",
    "    pageSize=50,\n",
    "    excludeNonAppCreatedData=False\n",
    ").execute()\n",
    " \n",
    "lstAlbums = response.get('albums')\n",
    "nextPageToken = response.get('nextPageToken')\n",
    " \n",
    "while nextPageToken:\n",
    "    response = service.albums.list(\n",
    "        pageSize=50,\n",
    "        excludeNonAppCreatedData=False,\n",
    "        pageToken=nextPageToken\n",
    "    )\n",
    "    lstAlbums.append(response.get('ablums'))\n",
    "    nextPageToken = response.get('nextPageToken')\n",
    " \n",
    "df_albums = pd.DataFrame(lstAlbums)"
   ]
  },
  {
   "cell_type": "code",
   "execution_count": 7,
   "metadata": {},
   "outputs": [
    {
     "data": {
      "text/plain": [
       "['__add__',\n",
       " '__class__',\n",
       " '__contains__',\n",
       " '__delattr__',\n",
       " '__delitem__',\n",
       " '__dir__',\n",
       " '__doc__',\n",
       " '__eq__',\n",
       " '__format__',\n",
       " '__ge__',\n",
       " '__getattribute__',\n",
       " '__getitem__',\n",
       " '__gt__',\n",
       " '__hash__',\n",
       " '__iadd__',\n",
       " '__imul__',\n",
       " '__init__',\n",
       " '__init_subclass__',\n",
       " '__iter__',\n",
       " '__le__',\n",
       " '__len__',\n",
       " '__lt__',\n",
       " '__mul__',\n",
       " '__ne__',\n",
       " '__new__',\n",
       " '__reduce__',\n",
       " '__reduce_ex__',\n",
       " '__repr__',\n",
       " '__reversed__',\n",
       " '__rmul__',\n",
       " '__setattr__',\n",
       " '__setitem__',\n",
       " '__sizeof__',\n",
       " '__str__',\n",
       " '__subclasshook__',\n",
       " 'append',\n",
       " 'clear',\n",
       " 'copy',\n",
       " 'count',\n",
       " 'extend',\n",
       " 'index',\n",
       " 'insert',\n",
       " 'pop',\n",
       " 'remove',\n",
       " 'reverse',\n",
       " 'sort']"
      ]
     },
     "execution_count": 7,
     "metadata": {},
     "output_type": "execute_result"
    }
   ],
   "source": [
    "dir(lstAlbums)"
   ]
  }
 ],
 "metadata": {
  "kernelspec": {
   "display_name": "Python 3.8.2 64-bit",
   "language": "python",
   "name": "python38264bit54945e4f9fef42fdaf6b9077a5001296"
  },
  "language_info": {
   "codemirror_mode": {
    "name": "ipython",
    "version": 3
   },
   "file_extension": ".py",
   "mimetype": "text/x-python",
   "name": "python",
   "nbconvert_exporter": "python",
   "pygments_lexer": "ipython3",
   "version": "3.8.2"
  }
 },
 "nbformat": 4,
 "nbformat_minor": 4
}
