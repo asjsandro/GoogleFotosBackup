{
 "cells": [
  {
   "cell_type": "code",
   "execution_count": 1,
   "metadata": {},
   "outputs": [],
   "source": [
    "import os\n",
    "from Google import Create_Service\n",
    "import pandas as pd\n",
    "import requests"
   ]
  },
  {
   "cell_type": "code",
   "execution_count": 2,
   "metadata": {},
   "outputs": [],
   "source": [
    "pd.set_option('display.max_columns', 100)\n",
    "pd.set_option('display.max_rows', 150)\n",
    "pd.set_option('display.max_colwidth', 150)\n",
    "pd.set_option('display.width', 150)\n",
    "pd.set_option('expand_frame_repr', True)"
   ]
  },
  {
   "cell_type": "code",
   "execution_count": 3,
   "metadata": {},
   "outputs": [],
   "source": [
    "CLIENT_SECRET_FILE = 'client_secret_GoogleCloudPlatform.json'\n",
    "API_NAME = 'photoslibrary'\n",
    "API_VERSION = 'v1'\n",
    "SCOPES = ['https://photoslibrary.googleapis.com']"
   ]
  },
  {
   "cell_type": "code",
   "execution_count": 4,
   "metadata": {},
   "outputs": [],
   "source": [
    "def download_file(url:str, destination_folder:str, file_name:str):\n",
    "    response = requests.get(url)\n",
    "    if response.status_code == 200:\n",
    "        print('Download file {}'.format(file_name))\n",
    "        with open(os.path.join(destination_folder, file_name), 'wb') as f:\n",
    "            f.write(response.content)\n",
    "            f.close()"
   ]
  },
  {
   "cell_type": "code",
   "execution_count": 5,
   "metadata": {},
   "outputs": [
    {
     "name": "stdout",
     "output_type": "stream",
     "text": [
      "client_secret_GoogleCloudPlatform.json-photoslibrary-v1-(['https://photoslibrary.googleapis.com'],)\n",
      "['https://photoslibrary.googleapis.com']\n",
      "photoslibrary service created successfully\n"
     ]
    }
   ],
   "source": [
    "service = Create_Service(CLIENT_SECRET_FILE, API_NAME,API_VERSION, SCOPES)"
   ]
  },
  {
   "cell_type": "code",
   "execution_count": 6,
   "metadata": {},
   "outputs": [],
   "source": [
    "\"\"\"\n",
    "list method\n",
    "\"\"\"\n",
    "response = service.mediaItems().list(\n",
    "    pageSize=100).execute()\n",
    "\n",
    "lstItens = response.get('mediaItems')\n",
    "nextPageToken = response.get('nextPageToken')"
   ]
  },
  {
   "cell_type": "code",
   "execution_count": 7,
   "metadata": {},
   "outputs": [],
   "source": [
    "interacao = 0\n",
    "while nextPageToken and interacao < 3:\n",
    "    response = service.mediaItems().list(\n",
    "        pageSize=100,\n",
    "        pageToken=nextPageToken).execute()\n",
    "    lstItens.extend(response.get('mediaItems'))\n",
    "    nextPageToken = response.get('nextPageToken')\n",
    "    interacao += 1"
   ]
  },
  {
   "cell_type": "code",
   "execution_count": 8,
   "metadata": {},
   "outputs": [],
   "source": [
    "dfItens = pd.DataFrame(lstItens)"
   ]
  },
  {
   "cell_type": "code",
   "execution_count": 9,
   "metadata": {},
   "outputs": [
    {
     "name": "stdout",
     "output_type": "stream",
     "text": [
      "Download file 20201019_112227.jpg\n",
      "0\n",
      "20201019_112227.jpg\n",
      "https://lh3.googleusercontent.com/lr/AFBm1_ZL3f0bCJrESuJ9kTUklt0FDcMZweH_aOkMCL6zxp-3S5ytLleU6raiWqLHhk3sBBBRdP5f22zSnMGR1WPKKtdoCYB297kIilMt7YHLhyP460dOzmWfbfjDf2ytVLm_FZuNWr8KbIYwu87LWsGv-RVBOW85eyNoP_gGBirqxd5aLyin1Mo0d37J6KmrF_e3VAitWv0ZUU4DBE3GTDjMPguUOn4quwM8uZHm8o8FaRyJ4zYGayWEWuA7oid1Udj4sfhQ0jfQfFGmsbRM0SU5iiSAN3XDMRQFGCGh1YHcfBPiUcO_hAjADU5n2omzj4SSZfzylDUkqbBodyItDtM2rMjAmWPcjHD1glc5l_AiOGD1mknecpkGv_B6-C9SgUAO7wfR2JUQcpk7PErBeQ-uEMSbhNH54oPuP3lSA27SCsBnzYRtKA3mGSjn5Y_Ym3mgDniWcheUgsP88qUBlFIBo3pZzGanUPbXfjN8o5HX-WxJTyPbTl3AIK3-NSeBrndeSxAmL22OmN8IOy5ZaX9rLVaupVXp8I0R5tgFBq59OIFeCKVu42g_ADRQVQY_iR6CY5J6XLOa0GDzUU6JIz9ocRbH1E-SfaF7PG_doFJNfqa3zlWgqp73946mv8NBtA6kGT6PPtsMapA6kQuFhkdB6pmwOgWEg-3CEnWQbKbrYAKXVJORPqJw5qnOAuAZCFeEoCODcsL48cjfYsQtFVaadVl45i5wF6BOMMKJcG-DoeGtPvyQ3sSHqoortSGmrELEUITqxnQkmcsLBg4lbJJ_T4HUpgsw4ridEI2f5_bGWYEgczshQO4p0dx4\n",
      "Download file VID-20201018-WA0010.mp4\n",
      "1\n",
      "VID-20201018-WA0010.mp4\n",
      "https://lh3.googleusercontent.com/lr/AFBm1_YvmM825zMRw_pPKaNRiwlll2Ei3LN5IMU0qDrl1xStg1eKVHuE5sWhyOe-uJgk1yZCwr1Ey1eCDwM4lK-vmejOBydD92-_-umSj2Mqn6LrPRGoqQ2IJLo1L4kMFptNnpDqW4ESFf8tX5KckHN4ywo-SQcTJLrgVeNBZ9lMNYrXxq2-hK_TTynoZzXsrl-JKwRznxizJp6OI97JNyCVnaIicK_0l46AGwHAWfDyXBh02W4_RhCc9yFx99XpLr-o8Rm-e9ZZVXI03JWmHLIjF11_7msdTMOtzJc2D7UDPJYhH0o4aQGZmfRyQs9vt273hxEwQoN6LuVnJtUe-v560p-AzUZPW78Qr5L5GZ29dfeJKtZ5P9X-JORWzKg07SHbvjqXQHXekWGKLPt4p6Kr_mfY4KhFTiwXvLK-VQqiX9GI4RIZvlmr1vsKNl5NtXq78AjQYSmXhVcSGA1k0kkzUAhJOaT1LxdWgMgIwfVh8kKsmRIPppIpdOvLuBUc1hNLXW0kx6sVPVtiqOLfCYT9tm2PuB4aWKguY954tAA_hqwR2EHw0-_uqDK3sI2HUXVzq0XSOS0P4ywaafozKl1G6vehzIj-uGnLEL5FGh9Wjc9sWUxnXfjBZ15SwfazoWRXwOOuSTNsN5rpxzPir3EtQAItobLyQlRBnzOy_EIDbCegFeVGSHZKpWhKZfDIatym6yBdlUSpTr6tbnrEr7PHAesF7Z7D2kfEdQxyHOPJK7SNWvh8-bRKKwIGABVxXFlvJr_tf2A9L0q205Fg298-RvaUjDhHBBmabCmYRU7urnMLLGwis0lO3JVp\n",
      "Download file IMG-20201018-WA0002.jpeg\n",
      "2\n",
      "IMG-20201018-WA0002.jpeg\n",
      "https://lh3.googleusercontent.com/lr/AFBm1_Z60Ppgr-aZ5dqQfUksQs98tHhMQ5dkU3oXkAT1SpTSBH7FQ4zxvs8QpQHxBEm1An70wtBGtCnaf4HYDC8B9L5DLUF48lOwfAeLnyLQosArbsS2Kg31_ZLNF_5mdncUQ2SYOObQBK0BcKb1Px5eRDC_QFmwz7yKimDhJOXl4Jfdxj_MLFYfJMpkDhXNWlXHCArKYqQA08ZTfTUcEL1lSn5WiROo1bnea-Cse4iwLtw2Nh0MvZACWAz-aMk7yMqBBmxspnRDpDb1cCoWi7xks-AvlaedwIgaty730TWJ7Ggc9my33lld1xRPH2jHlk1OqRV2vHxBqf4YTQWUeoosMvwH2-xlzUhSAH2px7v7w_tWBwXVbBKjHvBt9DqLGAfebsan6yWhyLcmYRZz79J9evPWlftZ2k2HJln2HGlZQMkF5UgQSqK2dyag9gdGKcBvnAfwmYZgnMYZsAcwzpxoy2JbLdJXW4nKd5Vd4hIHzPMtJxV-oSr8-zHqXD4KQYRC2mZbR3exvJKem85d3FdC0NMud4nBq8DEXuzXiZrUDgpViBsOuz048W7Y4PXYeSlHGQq_nQx9SQLKwlG8WFUeSx42wku7fwStJED2NG42QlB2Dyru5as-OIcJqCzv6EQgqAIRRFsRzwhO5fnO3K-Cblds-RRGDrGUmi0FR8KcTuDc-mf4PEaPkKogy54p_L5zyh3myLJwLf1pR3RqjY3AMetCSe9RhbekR6k6DLmBvicxYg_YYFQh7pzKzSaNvC6tf4oy2MeT9NNdZDHVJfnrhwJF6oB7_MWrt4Hy6XFwHLbPymHjUn63Jz3N\n"
     ]
    }
   ],
   "source": [
    "destination_folder = r'download'\n",
    "for index, dfIten in dfItens.iterrows():\n",
    "    file_name = dfIten['filename']\n",
    "    download_url = dfIten['baseUrl'] + '=d'\n",
    "    download_file(download_url, destination_folder, file_name)"
   ]
  }
 ],
 "metadata": {
  "kernelspec": {
   "display_name": "Python 3.8.2 64-bit",
   "language": "python",
   "name": "python38264bit54945e4f9fef42fdaf6b9077a5001296"
  },
  "language_info": {
   "codemirror_mode": {
    "name": "ipython",
    "version": 3
   },
   "file_extension": ".py",
   "mimetype": "text/x-python",
   "name": "python",
   "nbconvert_exporter": "python",
   "pygments_lexer": "ipython3",
   "version": "3.8.5"
  }
 },
 "nbformat": 4,
 "nbformat_minor": 4
}
